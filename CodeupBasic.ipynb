{
 "cells": [
  {
   "cell_type": "code",
   "execution_count": null,
   "metadata": {
    "collapsed": true,
    "pycharm": {
     "name": "#%%\n"
    }
   },
   "outputs": [],
   "source": [
    "#6098\n",
    "miro = []\n",
    "x, y = 1, 1\n",
    "end_flag = 1\n",
    "for i in range(0,10):\n",
    "    a = input().split()\n",
    "    miro.append(a)\n",
    "\n",
    "while (end_flag):\n",
    "    ycell = miro[y]\n",
    "    if ycell[x] == '2' or (x == '8' and y == '8'):\n",
    "        ycell[x] = '9'\n",
    "        break\n",
    "    elif ycell[x] =='1':\n",
    "        break\n",
    "    elif ycell[x] == '0':\n",
    "        ycell[x] = '9'\n",
    "        if ycell[x + 1] != '1':\n",
    "            x += 1\n",
    "        else:\n",
    "            y += 1\n",
    "\n",
    "\n",
    "for i in miro:\n",
    "    s = \" \".join(i)\n",
    "    print(s)"
   ]
  },
  {
   "cell_type": "code",
   "execution_count": 2,
   "outputs": [
    {
     "name": "stdout",
     "output_type": "stream",
     "text": [
      "w\n",
      "e\n",
      "s\n",
      "d\n",
      "f\n",
      "x\n",
      "z\n",
      "a\n",
      "q\n"
     ]
    }
   ],
   "source": [
    "#6078\n",
    "while(True):\n",
    "    a = input()\n",
    "    print(a)\n",
    "    if a == 'q':\n",
    "        break"
   ],
   "metadata": {
    "collapsed": false,
    "pycharm": {
     "name": "#%%\n"
    }
   }
  },
  {
   "cell_type": "code",
   "execution_count": 3,
   "outputs": [
    {
     "name": "stdout",
     "output_type": "stream",
     "text": [
      "10\n"
     ]
    }
   ],
   "source": [
    "#6079\n",
    "a = int(input())\n",
    "i = 1\n",
    "sum = 0\n",
    "while(True):\n",
    "    sum+=i\n",
    "    if sum >= a:\n",
    "        print(i)\n",
    "        break\n",
    "    else:\n",
    "        i+=1"
   ],
   "metadata": {
    "collapsed": false,
    "pycharm": {
     "name": "#%%\n"
    }
   }
  },
  {
   "cell_type": "code",
   "execution_count": 11,
   "outputs": [
    {
     "name": "stdout",
     "output_type": "stream",
     "text": [
      "1 1\n",
      "1 2\n",
      "1 3\n",
      "2 1\n",
      "2 2\n",
      "2 3\n"
     ]
    }
   ],
   "source": [
    "#6080\n",
    "n,m = map(int, input().split())\n",
    "\n",
    "for i in range(0,n):\n",
    "    for k in range(0,m):\n",
    "        print(i+1,k+1)"
   ],
   "metadata": {
    "collapsed": false,
    "pycharm": {
     "name": "#%%\n"
    }
   }
  },
  {
   "cell_type": "code",
   "execution_count": 30,
   "outputs": [
    {
     "name": "stdout",
     "output_type": "stream",
     "text": [
      "B*1=B\n",
      "B*2=16\n",
      "B*3=21\n",
      "B*4=2C\n",
      "B*5=37\n",
      "B*6=42\n",
      "B*7=4D\n",
      "B*8=58\n",
      "B*9=63\n",
      "B*A=6E\n",
      "B*B=79\n",
      "B*C=84\n",
      "B*D=8F\n",
      "B*E=9A\n",
      "B*F=A5\n"
     ]
    }
   ],
   "source": [
    "#6081\n",
    "a = input()\n",
    "\n",
    "inta = int(a,16)\n",
    "\n",
    "for i in range(1,16):\n",
    "    print(\"{0:s}*{1:s}={2:s}\".format(a,hex(i).replace(\"0x\",\"\").upper(),hex(inta*i).replace(\"0x\",\"\").upper()))"
   ],
   "metadata": {
    "collapsed": false,
    "pycharm": {
     "name": "#%%\n"
    }
   }
  },
  {
   "cell_type": "code",
   "execution_count": null,
   "outputs": [],
   "source": [],
   "metadata": {
    "collapsed": false,
    "pycharm": {
     "name": "#%%\n"
    }
   }
  }
 ],
 "metadata": {
  "kernelspec": {
   "display_name": "Python 3",
   "language": "python",
   "name": "python3"
  },
  "language_info": {
   "codemirror_mode": {
    "name": "ipython",
    "version": 2
   },
   "file_extension": ".py",
   "mimetype": "text/x-python",
   "name": "python",
   "nbconvert_exporter": "python",
   "pygments_lexer": "ipython2",
   "version": "2.7.6"
  }
 },
 "nbformat": 4,
 "nbformat_minor": 0
}