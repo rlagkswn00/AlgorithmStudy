{
 "cells": [
  {
   "cell_type": "code",
   "execution_count": 3,
   "outputs": [
    {
     "name": "stdout",
     "output_type": "stream",
     "text": [
      "sys.???\n"
     ]
    }
   ],
   "source": [
    "#1032\n",
    "a = int(input())\n",
    "words = []\n",
    "result = \"\"\n",
    "for i in range(0,a):\n",
    "    words.append(input())\n",
    "\n",
    "for word in words:\n",
    "    if result == \"\":\n",
    "        result = word\n",
    "        continue\n",
    "    for k in range(0,len(word)):\n",
    "        if word[k] != result[k]:\n",
    "            l = list(result)\n",
    "            l[k] = '?'\n",
    "            result = \"\".join(l)\n",
    "\n",
    "print(result)"
   ],
   "metadata": {
    "collapsed": false,
    "pycharm": {
     "name": "#%%\n"
    }
   }
  },
  {
   "cell_type": "code",
   "execution_count": null,
   "outputs": [],
   "source": [],
   "metadata": {
    "collapsed": false,
    "pycharm": {
     "name": "#%%\n"
    }
   }
  }
 ],
 "metadata": {
  "kernelspec": {
   "display_name": "Python 3",
   "language": "python",
   "name": "python3"
  },
  "language_info": {
   "codemirror_mode": {
    "name": "ipython",
    "version": 2
   },
   "file_extension": ".py",
   "mimetype": "text/x-python",
   "name": "python",
   "nbconvert_exporter": "python",
   "pygments_lexer": "ipython2",
   "version": "2.7.6"
  }
 },
 "nbformat": 4,
 "nbformat_minor": 0
}