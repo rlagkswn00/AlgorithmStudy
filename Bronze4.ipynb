{
 "cells": [
  {
   "cell_type": "code",
   "execution_count": 3,
   "metadata": {
    "collapsed": true,
    "pycharm": {
     "name": "#%%\n"
    }
   },
   "outputs": [
    {
     "name": "stdout",
     "output_type": "stream",
     "text": [
      "9\n"
     ]
    }
   ],
   "source": [
    "#1264\n",
    "a = input()\n",
    "sum = 0\n",
    "b = ['a','e','i','o','u']\n",
    "while a != '#':\n",
    "    for i in b:\n",
    "        sum+=a.count(i)\n",
    "        sum+=a.count(i.upper())\n",
    "    print(sum)\n",
    "    sum = 0\n",
    "    a = input()"
   ]
  },
  {
   "cell_type": "code",
   "execution_count": 19,
   "outputs": [
    {
     "name": "stdout",
     "output_type": "stream",
     "text": [
      "    *\n",
      "   **\n",
      "  ***\n",
      " ****\n",
      "*****\n"
     ]
    }
   ],
   "source": [
    "#2439\n",
    "a = int(input())\n",
    "str = \"\"\n",
    "for i in range(0,a):\n",
    "    for j in range(0,a):\n",
    "           if j >= (a-i-1):\n",
    "               str+='*'\n",
    "           else:\n",
    "               str+=\" \"\n",
    "    print(str)\n",
    "    str = \"\""
   ],
   "metadata": {
    "collapsed": false,
    "pycharm": {
     "name": "#%%\n"
    }
   }
  },
  {
   "cell_type": "code",
   "execution_count": 21,
   "outputs": [
    {
     "name": "stdout",
     "output_type": "stream",
     "text": [
      "*****\n",
      "****\n",
      "***\n",
      "**\n",
      "*\n"
     ]
    }
   ],
   "source": [
    "#2440\n",
    "a = int(input())\n",
    "str = \"\"\n",
    "for i in range(0,a):\n",
    "    for j in range(0,a):\n",
    "           if j <= (a-i-1):\n",
    "               str+='*'\n",
    "    print(str)\n",
    "    str = \"\""
   ],
   "metadata": {
    "collapsed": false,
    "pycharm": {
     "name": "#%%\n"
    }
   }
  },
  {
   "cell_type": "code",
   "execution_count": 26,
   "outputs": [
    {
     "name": "stdout",
     "output_type": "stream",
     "text": [
      "12000\n"
     ]
    }
   ],
   "source": [
    "#2480 - 1\n",
    "a = input().replace(\" \",\"\")\n",
    "first_cnt = a.count(a[0])\n",
    "sec_cnt = a.count(a[1])\n",
    "end_cnt = a.count(a[2])\n",
    "\n",
    "if a[0] == a[1] and a[1] == a[2]:\n",
    "    print(10000+1000*int(a[0]))\n",
    "\n",
    "if first_cnt == 1 and sec_cnt == 1 and end_cnt == 1:\n",
    "    max = 0\n",
    "    if int(a[0]) > int(a[1]):\n",
    "        max = int(a[0])\n",
    "    else:\n",
    "        max = int(a[1])\n",
    "    if int(a[2]) > max:\n",
    "        max = int(a[2])\n",
    "    print(100*max)\n",
    "\n",
    "if first_cnt == 2:\n",
    "    print(1000 + int(a[0])*100)\n",
    "elif sec_cnt == 2:\n",
    "    print(1000 + int(a[1])*100)\n",
    "elif end_cnt == 2:\n",
    "    print(1000 + int(a[2])*100)\n",
    "\n"
   ],
   "metadata": {
    "collapsed": false,
    "pycharm": {
     "name": "#%%\n"
    }
   }
  },
  {
   "cell_type": "code",
   "execution_count": 27,
   "outputs": [
    {
     "name": "stdout",
     "output_type": "stream",
     "text": [
      "12000\n"
     ]
    }
   ],
   "source": [
    "#2480 - 2\n",
    "a, b, c = map(int, input().split())\n",
    "\n",
    "if a == b == c:\n",
    "    print(10000+a*1000)\n",
    "elif a == b:\n",
    "    print(1000+a*100)\n",
    "elif a == c:\n",
    "    print(1000+a*100)\n",
    "elif b == c:\n",
    "    print(1000+b*100)\n",
    "else:\n",
    "    print(100 * max(a,b,c))"
   ],
   "metadata": {
    "collapsed": false,
    "pycharm": {
     "name": "#%%\n"
    }
   }
  },
  {
   "cell_type": "code",
   "execution_count": 39,
   "outputs": [
    {
     "name": "stdout",
     "output_type": "stream",
     "text": [
      "23 89 114\n",
      "0 30 54\n"
     ]
    }
   ],
   "source": [
    "#2530\n",
    "hour, min, sec = map(int, input().split())\n",
    "extra_time = int(input())\n",
    "extra_hour = extra_time//3600\n",
    "hour += extra_hour\n",
    "extra_min = (extra_time - extra_hour*3600)//60\n",
    "min += extra_min\n",
    "extra_sec = extra_time - extra_min*60 - extra_hour*3600\n",
    "sec += extra_sec\n",
    "\n",
    "min += sec//60\n",
    "sec %= 60\n",
    "hour += min//60\n",
    "min %= 60\n",
    "hour %= 24\n",
    "print(hour,min,sec)"
   ],
   "metadata": {
    "collapsed": false,
    "pycharm": {
     "name": "#%%\n"
    }
   }
  },
  {
   "cell_type": "code",
   "execution_count": 48,
   "outputs": [
    {
     "name": "stdout",
     "output_type": "stream",
     "text": [
      "11 22 33\n"
     ]
    }
   ],
   "source": [
    "#2752\n",
    "a = input().split()\n",
    "a.sort()\n",
    "print(\" \".join(a))"
   ],
   "metadata": {
    "collapsed": false,
    "pycharm": {
     "name": "#%%\n"
    }
   }
  },
  {
   "cell_type": "code",
   "execution_count": null,
   "outputs": [],
   "source": [
    "a = input()."
   ],
   "metadata": {
    "collapsed": false,
    "pycharm": {
     "name": "#%%\n"
    }
   }
  }
 ],
 "metadata": {
  "kernelspec": {
   "display_name": "Python 3",
   "language": "python",
   "name": "python3"
  },
  "language_info": {
   "codemirror_mode": {
    "name": "ipython",
    "version": 2
   },
   "file_extension": ".py",
   "mimetype": "text/x-python",
   "name": "python",
   "nbconvert_exporter": "python",
   "pygments_lexer": "ipython2",
   "version": "2.7.6"
  }
 },
 "nbformat": 4,
 "nbformat_minor": 0
}