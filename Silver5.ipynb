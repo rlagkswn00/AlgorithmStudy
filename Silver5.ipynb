{
 "cells": [
  {
   "cell_type": "code",
   "execution_count": 10,
   "metadata": {
    "collapsed": true,
    "pycharm": {
     "name": "#%%\n"
    }
   },
   "outputs": [
    {
     "name": "stdout",
     "output_type": "stream",
     "text": [
      "67863915\n"
     ]
    }
   ],
   "source": [
    "#1010\n",
    "def fact(n):\n",
    "    sum = 1\n",
    "    for i in range(1, n + 1):\n",
    "        sum *= i\n",
    "    return sum\n",
    "\n",
    "\n",
    "a = int(input())\n",
    "\n",
    "for i in range(0, a):\n",
    "    west, east = map(int, input().split())\n",
    "    print(fact(east) // (fact(east - west) * fact(west)))\n"
   ]
  },
  {
   "cell_type": "code",
   "execution_count": 1,
   "outputs": [
    {
     "ename": "IndexError",
     "evalue": "list index out of range",
     "output_type": "error",
     "traceback": [
      "\u001B[0;31m---------------------------------------------------------------------------\u001B[0m",
      "\u001B[0;31mIndexError\u001B[0m                                Traceback (most recent call last)",
      "Input \u001B[0;32mIn [1]\u001B[0m, in \u001B[0;36m<cell line: 8>\u001B[0;34m()\u001B[0m\n\u001B[1;32m      8\u001B[0m \u001B[38;5;28;01mwhile\u001B[39;00m (end_flag):\n\u001B[1;32m      9\u001B[0m     ycell \u001B[38;5;241m=\u001B[39m miro[y]\n\u001B[0;32m---> 10\u001B[0m     \u001B[38;5;28;01mif\u001B[39;00m \u001B[43mycell\u001B[49m\u001B[43m[\u001B[49m\u001B[43mx\u001B[49m\u001B[43m]\u001B[49m \u001B[38;5;241m==\u001B[39m \u001B[38;5;124m'\u001B[39m\u001B[38;5;124m2\u001B[39m\u001B[38;5;124m'\u001B[39m \u001B[38;5;129;01mor\u001B[39;00m (x \u001B[38;5;241m==\u001B[39m \u001B[38;5;124m'\u001B[39m\u001B[38;5;124m8\u001B[39m\u001B[38;5;124m'\u001B[39m \u001B[38;5;129;01mand\u001B[39;00m y \u001B[38;5;241m==\u001B[39m \u001B[38;5;124m'\u001B[39m\u001B[38;5;124m8\u001B[39m\u001B[38;5;124m'\u001B[39m):\n\u001B[1;32m     11\u001B[0m         ycell[x] \u001B[38;5;241m=\u001B[39m \u001B[38;5;124m'\u001B[39m\u001B[38;5;124m9\u001B[39m\u001B[38;5;124m'\u001B[39m\n\u001B[1;32m     12\u001B[0m         \u001B[38;5;28;01mbreak\u001B[39;00m\n",
      "\u001B[0;31mIndexError\u001B[0m: list index out of range"
     ]
    }
   ],
   "source": [
    "miro = []\n",
    "x, y = 1, 1\n",
    "end_flag = 1\n",
    "for i in range(0,10):\n",
    "    a = input().split()\n",
    "    miro.append(a)\n",
    "\n",
    "while (end_flag):\n",
    "    ycell = miro[y]\n",
    "    if ycell[x] == '2' or (x == '8' and y == '8'):\n",
    "        ycell[x] = '9'\n",
    "        break\n",
    "    elif ycell[x] =='1':\n",
    "        break\n",
    "    elif ycell[x] == '0':\n",
    "        ycell[x] = '9'\n",
    "        if ycell[x + 1] != '1':\n",
    "            x += 1\n",
    "        else:\n",
    "            y += 1\n",
    "\n",
    "\n",
    "for i in miro:\n",
    "    s = \" \".join(i)\n",
    "    print(s)"
   ],
   "metadata": {
    "collapsed": false,
    "pycharm": {
     "name": "#%%\n"
    }
   }
  }
 ],
 "metadata": {
  "kernelspec": {
   "display_name": "Python 3",
   "language": "python",
   "name": "python3"
  },
  "language_info": {
   "codemirror_mode": {
    "name": "ipython",
    "version": 2
   },
   "file_extension": ".py",
   "mimetype": "text/x-python",
   "name": "python",
   "nbconvert_exporter": "python",
   "pygments_lexer": "ipython2",
   "version": "2.7.6"
  }
 },
 "nbformat": 4,
 "nbformat_minor": 0
}