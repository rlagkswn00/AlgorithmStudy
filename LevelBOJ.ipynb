{
 "cells": [
  {
   "cell_type": "code",
   "execution_count": 3,
   "outputs": [
    {
     "name": "stdout",
     "output_type": "stream",
     "text": [
      "4\n"
     ]
    }
   ],
   "source": [
    "#1110\n",
    "num = int(input())\n",
    "original_num = num\n",
    "cycle = 0\n",
    "while True:\n",
    "    cycle+=1\n",
    "    num_one = num%10\n",
    "    num_ten = (num%100-num%10)//10\n",
    "    new_sum = num_one+num_ten\n",
    "    num = new_sum%10+num_one*10\n",
    "    if num == original_num:\n",
    "        print(cycle)\n",
    "        break"
   ],
   "metadata": {
    "collapsed": false,
    "pycharm": {
     "name": "#%%\n"
    }
   }
  },
  {
   "cell_type": "code",
   "execution_count": 32,
   "outputs": [
    {
     "ename": "ValueError",
     "evalue": "invalid literal for int() with base 10: ''",
     "output_type": "error",
     "traceback": [
      "\u001B[0;31m---------------------------------------------------------------------------\u001B[0m",
      "\u001B[0;31mValueError\u001B[0m                                Traceback (most recent call last)",
      "Input \u001B[0;32mIn [32]\u001B[0m, in \u001B[0;36m<cell line: 3>\u001B[0;34m()\u001B[0m\n\u001B[1;32m      2\u001B[0m b \u001B[38;5;241m=\u001B[39m []\n\u001B[1;32m      3\u001B[0m \u001B[38;5;28;01mfor\u001B[39;00m i \u001B[38;5;129;01min\u001B[39;00m \u001B[38;5;28mrange\u001B[39m(\u001B[38;5;241m10\u001B[39m):\n\u001B[0;32m----> 4\u001B[0m     a \u001B[38;5;241m=\u001B[39m \u001B[38;5;28;43mint\u001B[39;49m\u001B[43m(\u001B[49m\u001B[38;5;28;43minput\u001B[39;49m\u001B[43m(\u001B[49m\u001B[43m)\u001B[49m\u001B[43m)\u001B[49m\u001B[38;5;241m%\u001B[39m\u001B[38;5;241m42\u001B[39m\n\u001B[1;32m      5\u001B[0m     \u001B[38;5;28;01mif\u001B[39;00m a \u001B[38;5;129;01min\u001B[39;00m b:\n\u001B[1;32m      6\u001B[0m         \u001B[38;5;28;01mcontinue\u001B[39;00m\n",
      "\u001B[0;31mValueError\u001B[0m: invalid literal for int() with base 10: ''"
     ]
    }
   ],
   "source": [
    "#3052\n",
    "b = []\n",
    "for i in range(10):\n",
    "    a = int(input())%42\n",
    "    if a in b:\n",
    "        continue\n",
    "    else:\n",
    "        b.append(a)\n",
    "\n",
    "print(len(b))"
   ],
   "metadata": {
    "collapsed": false,
    "pycharm": {
     "name": "#%%\n"
    }
   }
  },
  {
   "cell_type": "code",
   "execution_count": 41,
   "outputs": [
    {
     "name": "stdout",
     "output_type": "stream",
     "text": [
      "75.00\n"
     ]
    }
   ],
   "source": [
    "#1546\n",
    "a = int(input())\n",
    "b = list(map(int,input().split()))\n",
    "\n",
    "print(\"{0:.2f}\".format(sum(b)/(a*max(b))*100))"
   ],
   "metadata": {
    "collapsed": false,
    "pycharm": {
     "name": "#%%\n"
    }
   }
  },
  {
   "cell_type": "code",
   "execution_count": 52,
   "outputs": [
    {
     "name": "stdout",
     "output_type": "stream",
     "text": [
      "30\n",
      "55\n"
     ]
    }
   ],
   "source": [
    "#8958\n",
    "a = int(input())\n",
    "sum = 0\n",
    "cnt = 0\n",
    "\n",
    "for i in range(a):\n",
    "    b = input()\n",
    "    for j,d in enumerate(b):\n",
    "        if d == 'O':\n",
    "           cnt+=1\n",
    "           sum+=cnt\n",
    "        elif d == 'X':\n",
    "            cnt = 0\n",
    "        if j == len(b):\n",
    "            sum += cnt\n",
    "    print(sum)\n",
    "    sum = 0\n",
    "    cnt = 0\n"
   ],
   "metadata": {
    "collapsed": false,
    "pycharm": {
     "name": "#%%\n"
    }
   }
  },
  {
   "cell_type": "code",
   "execution_count": 10,
   "outputs": [
    {
     "name": "stdout",
     "output_type": "stream",
     "text": [
      "40.000\n"
     ]
    }
   ],
   "source": [
    "a = int(input())\n",
    "for i in range(a):\n",
    "    b = list(map(int,input().split()))\n",
    "    avg = (sum(b)-b[0])/b[0]\n",
    "    cnt = 0\n",
    "    for j in range(1,len(b)):\n",
    "        if b[j] > avg:\n",
    "            cnt +=1\n",
    "    print(\"{0:.3f}%\".format(cnt/b[0]*100))\n",
    "\n",
    "\n"
   ],
   "metadata": {
    "collapsed": false,
    "pycharm": {
     "name": "#%%\n"
    }
   }
  },
  {
   "cell_type": "code",
   "execution_count": null,
   "outputs": [],
   "source": [
    "#4673\n"
   ],
   "metadata": {
    "collapsed": false,
    "pycharm": {
     "name": "#%%\n"
    }
   }
  },
  {
   "cell_type": "code",
   "execution_count": null,
   "outputs": [],
   "source": [
    "#1065\n",
    "a = int(input())\n",
    "for i in range(1,a+1):\n"
   ],
   "metadata": {
    "collapsed": false,
    "pycharm": {
     "name": "#%%\n"
    }
   }
  }
 ],
 "metadata": {
  "kernelspec": {
   "display_name": "Python 3",
   "language": "python",
   "name": "python3"
  },
  "language_info": {
   "codemirror_mode": {
    "name": "ipython",
    "version": 2
   },
   "file_extension": ".py",
   "mimetype": "text/x-python",
   "name": "python",
   "nbconvert_exporter": "python",
   "pygments_lexer": "ipython2",
   "version": "2.7.6"
  }
 },
 "nbformat": 4,
 "nbformat_minor": 0
}